{
 "cells": [
  {
   "cell_type": "markdown",
   "id": "fc149859",
   "metadata": {},
   "source": [
    "## Import Packages"
   ]
  },
  {
   "cell_type": "code",
   "execution_count": 1,
   "id": "1814dd01",
   "metadata": {
    "id": "1814dd01"
   },
   "outputs": [],
   "source": [
    "import pandas as pd\n",
    "import seaborn as sns\n",
    "import matplotlib.pyplot as plt\n",
    "from sklearn.pipeline import Pipeline\n",
    "from sklearn.naive_bayes import MultinomialNB\n",
    "from sklearn.ensemble import RandomForestClassifier\n",
    "from sklearn.feature_extraction.text import TfidfVectorizer\n",
    "from sklearn.model_selection import train_test_split\n",
    "from sklearn.metrics import classification_report\n",
    "from sklearn.metrics import confusion_matrix\n",
    "from tqdm import tqdm\n",
    "\n",
    "import spacy\n",
    "nlp = spacy.load(\"en_core_web_sm\")"
   ]
  },
  {
   "cell_type": "code",
   "execution_count": 2,
   "id": "a94f4dc3",
   "metadata": {
    "colab": {
     "base_uri": "https://localhost:8080/",
     "height": 206
    },
    "id": "a94f4dc3",
    "outputId": "0c0fb9b1-c4cf-4ea2-b813-444f632d031b"
   },
   "outputs": [
    {
     "data": {
      "text/html": [
       "<div>\n",
       "<style scoped>\n",
       "    .dataframe tbody tr th:only-of-type {\n",
       "        vertical-align: middle;\n",
       "    }\n",
       "\n",
       "    .dataframe tbody tr th {\n",
       "        vertical-align: top;\n",
       "    }\n",
       "\n",
       "    .dataframe thead th {\n",
       "        text-align: right;\n",
       "    }\n",
       "</style>\n",
       "<table border=\"1\" class=\"dataframe\">\n",
       "  <thead>\n",
       "    <tr style=\"text-align: right;\">\n",
       "      <th></th>\n",
       "      <th>label</th>\n",
       "      <th>text</th>\n",
       "    </tr>\n",
       "  </thead>\n",
       "  <tbody>\n",
       "    <tr>\n",
       "      <th>0</th>\n",
       "      <td>Household</td>\n",
       "      <td>Paper Plane Design Framed Wall Hanging Motivat...</td>\n",
       "    </tr>\n",
       "    <tr>\n",
       "      <th>1</th>\n",
       "      <td>Household</td>\n",
       "      <td>SAF 'Floral' Framed Painting (Wood, 30 inch x ...</td>\n",
       "    </tr>\n",
       "    <tr>\n",
       "      <th>2</th>\n",
       "      <td>Household</td>\n",
       "      <td>SAF 'UV Textured Modern Art Print Framed' Pain...</td>\n",
       "    </tr>\n",
       "    <tr>\n",
       "      <th>3</th>\n",
       "      <td>Household</td>\n",
       "      <td>SAF Flower Print Framed Painting (Synthetic, 1...</td>\n",
       "    </tr>\n",
       "    <tr>\n",
       "      <th>4</th>\n",
       "      <td>Household</td>\n",
       "      <td>Incredible Gifts India Wooden Happy Birthday U...</td>\n",
       "    </tr>\n",
       "  </tbody>\n",
       "</table>\n",
       "</div>"
      ],
      "text/plain": [
       "       label                                               text\n",
       "0  Household  Paper Plane Design Framed Wall Hanging Motivat...\n",
       "1  Household  SAF 'Floral' Framed Painting (Wood, 30 inch x ...\n",
       "2  Household  SAF 'UV Textured Modern Art Print Framed' Pain...\n",
       "3  Household  SAF Flower Print Framed Painting (Synthetic, 1...\n",
       "4  Household  Incredible Gifts India Wooden Happy Birthday U..."
      ]
     },
     "execution_count": 2,
     "metadata": {},
     "output_type": "execute_result"
    }
   ],
   "source": [
    "df = pd.read_csv('ecommerceDataset.csv', header=None, names = ['label', 'text'])\n",
    "\n",
    "df.head()"
   ]
  },
  {
   "cell_type": "markdown",
   "id": "fb3adefd",
   "metadata": {},
   "source": [
    "## Data Analysis"
   ]
  },
  {
   "cell_type": "code",
   "execution_count": 3,
   "id": "40a9c3f2",
   "metadata": {
    "colab": {
     "base_uri": "https://localhost:8080/"
    },
    "id": "40a9c3f2",
    "outputId": "34bdd093-0730-42ba-a6a2-51d9be0f1669"
   },
   "outputs": [
    {
     "data": {
      "text/plain": [
       "(50425, 2)"
      ]
     },
     "execution_count": 3,
     "metadata": {},
     "output_type": "execute_result"
    }
   ],
   "source": [
    "df.shape"
   ]
  },
  {
   "cell_type": "code",
   "execution_count": 4,
   "id": "822023fc",
   "metadata": {
    "colab": {
     "base_uri": "https://localhost:8080/"
    },
    "id": "822023fc",
    "outputId": "ca267348-d3a9-4fca-a05a-c4a109627217"
   },
   "outputs": [
    {
     "data": {
      "text/plain": [
       "Household                 19313\n",
       "Books                     11820\n",
       "Electronics               10621\n",
       "Clothing & Accessories     8671\n",
       "Name: label, dtype: int64"
      ]
     },
     "execution_count": 4,
     "metadata": {},
     "output_type": "execute_result"
    }
   ],
   "source": [
    "df['label'].value_counts()"
   ]
  },
  {
   "cell_type": "markdown",
   "id": "19df7e0d",
   "metadata": {},
   "source": [
    "## Data Cleaning & Preprocessing"
   ]
  },
  {
   "cell_type": "code",
   "execution_count": 5,
   "id": "oE5lt7_JJq8d",
   "metadata": {
    "colab": {
     "base_uri": "https://localhost:8080/"
    },
    "id": "oE5lt7_JJq8d",
    "outputId": "a95d55c8-b1c8-4646-ee97-43a2959e9657"
   },
   "outputs": [
    {
     "data": {
      "text/plain": [
       "label    0\n",
       "text     1\n",
       "dtype: int64"
      ]
     },
     "execution_count": 5,
     "metadata": {},
     "output_type": "execute_result"
    }
   ],
   "source": [
    "df.isnull().sum()"
   ]
  },
  {
   "cell_type": "code",
   "execution_count": 6,
   "id": "xaoTlyuTJqqR",
   "metadata": {
    "id": "xaoTlyuTJqqR"
   },
   "outputs": [],
   "source": [
    "df.dropna(inplace = True)"
   ]
  },
  {
   "cell_type": "code",
   "execution_count": 7,
   "id": "zsZT1eUBJzdt",
   "metadata": {
    "colab": {
     "base_uri": "https://localhost:8080/"
    },
    "id": "zsZT1eUBJzdt",
    "outputId": "f974b1ad-23dc-45fe-bc1c-9829a7dd58d9"
   },
   "outputs": [
    {
     "data": {
      "text/plain": [
       "label    0\n",
       "text     0\n",
       "dtype: int64"
      ]
     },
     "execution_count": 7,
     "metadata": {},
     "output_type": "execute_result"
    }
   ],
   "source": [
    "df.isnull().sum()"
   ]
  },
  {
   "cell_type": "code",
   "execution_count": 8,
   "id": "fd7d8740",
   "metadata": {
    "id": "fd7d8740"
   },
   "outputs": [],
   "source": [
    "# Assigning numeric values to the target text\n",
    "\n",
    "df['label_numeric'] = df['label'].map({\n",
    "    'Household': 0,\n",
    "    'Books' :1,\n",
    "    'Electronics': 2,\n",
    "    'Clothing & Accessories': 3\n",
    "})"
   ]
  },
  {
   "cell_type": "code",
   "execution_count": 9,
   "id": "386af2ad",
   "metadata": {
    "colab": {
     "base_uri": "https://localhost:8080/",
     "height": 206
    },
    "id": "386af2ad",
    "outputId": "541b67d9-5efb-42bc-8c0b-928761510173"
   },
   "outputs": [
    {
     "data": {
      "text/html": [
       "<div>\n",
       "<style scoped>\n",
       "    .dataframe tbody tr th:only-of-type {\n",
       "        vertical-align: middle;\n",
       "    }\n",
       "\n",
       "    .dataframe tbody tr th {\n",
       "        vertical-align: top;\n",
       "    }\n",
       "\n",
       "    .dataframe thead th {\n",
       "        text-align: right;\n",
       "    }\n",
       "</style>\n",
       "<table border=\"1\" class=\"dataframe\">\n",
       "  <thead>\n",
       "    <tr style=\"text-align: right;\">\n",
       "      <th></th>\n",
       "      <th>label</th>\n",
       "      <th>text</th>\n",
       "      <th>label_numeric</th>\n",
       "    </tr>\n",
       "  </thead>\n",
       "  <tbody>\n",
       "    <tr>\n",
       "      <th>0</th>\n",
       "      <td>Household</td>\n",
       "      <td>Paper Plane Design Framed Wall Hanging Motivat...</td>\n",
       "      <td>0</td>\n",
       "    </tr>\n",
       "    <tr>\n",
       "      <th>1</th>\n",
       "      <td>Household</td>\n",
       "      <td>SAF 'Floral' Framed Painting (Wood, 30 inch x ...</td>\n",
       "      <td>0</td>\n",
       "    </tr>\n",
       "    <tr>\n",
       "      <th>2</th>\n",
       "      <td>Household</td>\n",
       "      <td>SAF 'UV Textured Modern Art Print Framed' Pain...</td>\n",
       "      <td>0</td>\n",
       "    </tr>\n",
       "    <tr>\n",
       "      <th>3</th>\n",
       "      <td>Household</td>\n",
       "      <td>SAF Flower Print Framed Painting (Synthetic, 1...</td>\n",
       "      <td>0</td>\n",
       "    </tr>\n",
       "    <tr>\n",
       "      <th>4</th>\n",
       "      <td>Household</td>\n",
       "      <td>Incredible Gifts India Wooden Happy Birthday U...</td>\n",
       "      <td>0</td>\n",
       "    </tr>\n",
       "  </tbody>\n",
       "</table>\n",
       "</div>"
      ],
      "text/plain": [
       "       label                                               text  label_numeric\n",
       "0  Household  Paper Plane Design Framed Wall Hanging Motivat...              0\n",
       "1  Household  SAF 'Floral' Framed Painting (Wood, 30 inch x ...              0\n",
       "2  Household  SAF 'UV Textured Modern Art Print Framed' Pain...              0\n",
       "3  Household  SAF Flower Print Framed Painting (Synthetic, 1...              0\n",
       "4  Household  Incredible Gifts India Wooden Happy Birthday U...              0"
      ]
     },
     "execution_count": 9,
     "metadata": {},
     "output_type": "execute_result"
    }
   ],
   "source": [
    "df.head()"
   ]
  },
  {
   "cell_type": "code",
   "execution_count": 10,
   "id": "435fca44",
   "metadata": {
    "id": "435fca44"
   },
   "outputs": [],
   "source": [
    "def preprocess(text):\n",
    "    doc = nlp(text)\n",
    "\n",
    "    filter_words = []\n",
    "\n",
    "    for token in doc:\n",
    "        if token.is_punct or token.is_alpha and token.is_stop:\n",
    "          continue\n",
    "        filter_words.append(token.lemma_.lower())\n",
    "\n",
    "    return \" \".join(filter_words)"
   ]
  },
  {
   "cell_type": "code",
   "execution_count": 11,
   "id": "b68a4921",
   "metadata": {
    "id": "b68a4921"
   },
   "outputs": [
    {
     "name": "stderr",
     "output_type": "stream",
     "text": [
      "100%|████████████████████████████████████████████████████████████████████████████| 50424/50424 [24:16<00:00, 34.61it/s]\n"
     ]
    }
   ],
   "source": [
    "for index, row in tqdm(df.iterrows(), total=len(df)):\n",
    "    df.at[index, 'preprocessed_text'] = preprocess(row['text'])   \n",
    "    \n",
    "#.at[]: This is a method for fast label-based scalar access. \n",
    "#It's particularly useful when you need to update or retrieve a single value in a DataFrame.    "
   ]
  },
  {
   "cell_type": "code",
   "execution_count": 12,
   "id": "314ed343",
   "metadata": {
    "colab": {
     "base_uri": "https://localhost:8080/",
     "height": 206
    },
    "id": "314ed343",
    "outputId": "171a7b7c-d980-46a5-adf0-4fe0310f6a5e"
   },
   "outputs": [
    {
     "data": {
      "text/html": [
       "<div>\n",
       "<style scoped>\n",
       "    .dataframe tbody tr th:only-of-type {\n",
       "        vertical-align: middle;\n",
       "    }\n",
       "\n",
       "    .dataframe tbody tr th {\n",
       "        vertical-align: top;\n",
       "    }\n",
       "\n",
       "    .dataframe thead th {\n",
       "        text-align: right;\n",
       "    }\n",
       "</style>\n",
       "<table border=\"1\" class=\"dataframe\">\n",
       "  <thead>\n",
       "    <tr style=\"text-align: right;\">\n",
       "      <th></th>\n",
       "      <th>label</th>\n",
       "      <th>text</th>\n",
       "      <th>label_numeric</th>\n",
       "      <th>preprocessed_text</th>\n",
       "    </tr>\n",
       "  </thead>\n",
       "  <tbody>\n",
       "    <tr>\n",
       "      <th>0</th>\n",
       "      <td>Household</td>\n",
       "      <td>Paper Plane Design Framed Wall Hanging Motivat...</td>\n",
       "      <td>0</td>\n",
       "      <td>paper plane design framed wall hanging motivat...</td>\n",
       "    </tr>\n",
       "    <tr>\n",
       "      <th>1</th>\n",
       "      <td>Household</td>\n",
       "      <td>SAF 'Floral' Framed Painting (Wood, 30 inch x ...</td>\n",
       "      <td>0</td>\n",
       "      <td>saf floral framed painting wood 30 inch x 10 i...</td>\n",
       "    </tr>\n",
       "    <tr>\n",
       "      <th>2</th>\n",
       "      <td>Household</td>\n",
       "      <td>SAF 'UV Textured Modern Art Print Framed' Pain...</td>\n",
       "      <td>0</td>\n",
       "      <td>saf uv texture modern art print framed paintin...</td>\n",
       "    </tr>\n",
       "    <tr>\n",
       "      <th>3</th>\n",
       "      <td>Household</td>\n",
       "      <td>SAF Flower Print Framed Painting (Synthetic, 1...</td>\n",
       "      <td>0</td>\n",
       "      <td>saf flower print framed painting synthetic 13....</td>\n",
       "    </tr>\n",
       "    <tr>\n",
       "      <th>4</th>\n",
       "      <td>Household</td>\n",
       "      <td>Incredible Gifts India Wooden Happy Birthday U...</td>\n",
       "      <td>0</td>\n",
       "      <td>incredible gifts india wooden happy birthday u...</td>\n",
       "    </tr>\n",
       "  </tbody>\n",
       "</table>\n",
       "</div>"
      ],
      "text/plain": [
       "       label                                               text  \\\n",
       "0  Household  Paper Plane Design Framed Wall Hanging Motivat...   \n",
       "1  Household  SAF 'Floral' Framed Painting (Wood, 30 inch x ...   \n",
       "2  Household  SAF 'UV Textured Modern Art Print Framed' Pain...   \n",
       "3  Household  SAF Flower Print Framed Painting (Synthetic, 1...   \n",
       "4  Household  Incredible Gifts India Wooden Happy Birthday U...   \n",
       "\n",
       "   label_numeric                                  preprocessed_text  \n",
       "0              0  paper plane design framed wall hanging motivat...  \n",
       "1              0  saf floral framed painting wood 30 inch x 10 i...  \n",
       "2              0  saf uv texture modern art print framed paintin...  \n",
       "3              0  saf flower print framed painting synthetic 13....  \n",
       "4              0  incredible gifts india wooden happy birthday u...  "
      ]
     },
     "execution_count": 12,
     "metadata": {},
     "output_type": "execute_result"
    }
   ],
   "source": [
    "df.head()"
   ]
  },
  {
   "cell_type": "markdown",
   "id": "afd4903a",
   "metadata": {},
   "source": [
    "## splitting Data"
   ]
  },
  {
   "cell_type": "code",
   "execution_count": 13,
   "id": "28e3924b",
   "metadata": {
    "id": "28e3924b"
   },
   "outputs": [],
   "source": [
    "x = df['preprocessed_text']\n",
    "y = df['label_numeric']"
   ]
  },
  {
   "cell_type": "code",
   "execution_count": 14,
   "id": "4ef88821",
   "metadata": {
    "id": "4ef88821"
   },
   "outputs": [],
   "source": [
    "xtrain, xtest, ytrain, ytest = train_test_split(x, y, test_size = 0.2, random_state = 0, stratify = y)"
   ]
  },
  {
   "cell_type": "code",
   "execution_count": 15,
   "id": "343e6e7f",
   "metadata": {
    "id": "343e6e7f"
   },
   "outputs": [],
   "source": [
    "clf = Pipeline([(\"tfidf\", TfidfVectorizer()), (\"Multi_NB\", MultinomialNB())])"
   ]
  },
  {
   "cell_type": "code",
   "execution_count": 16,
   "id": "a80c53d6",
   "metadata": {
    "colab": {
     "base_uri": "https://localhost:8080/"
    },
    "id": "a80c53d6",
    "outputId": "4adebc78-7486-48ba-ea86-8aacb5f9e051"
   },
   "outputs": [
    {
     "name": "stdout",
     "output_type": "stream",
     "text": [
      "Train Acc: 0.9511390961600437\n",
      "Test Acc: 0.9420922161626177\n",
      "\n",
      "              precision    recall  f1-score   support\n",
      "\n",
      "           0       0.90      0.98      0.94      3863\n",
      "           1       0.98      0.91      0.94      2364\n",
      "           2       0.96      0.90      0.93      2124\n",
      "           3       0.98      0.95      0.97      1734\n",
      "\n",
      "    accuracy                           0.94     10085\n",
      "   macro avg       0.95      0.94      0.94     10085\n",
      "weighted avg       0.94      0.94      0.94     10085\n",
      "\n"
     ]
    }
   ],
   "source": [
    "## MultinomialNB\n",
    "\n",
    "clf.fit(xtrain, ytrain)\n",
    "ypred = clf.predict(xtest)\n",
    "\n",
    "train = clf.score(xtrain,ytrain)\n",
    "test = clf.score(xtest, ytest)\n",
    "\n",
    "print(f'Train Acc: {train}\\nTest Acc: {test}\\n\\n{classification_report(ytest,ypred)}')"
   ]
  },
  {
   "cell_type": "markdown",
   "id": "c029b314",
   "metadata": {},
   "source": [
    "## Checking ytest and ypred"
   ]
  },
  {
   "cell_type": "code",
   "execution_count": 17,
   "id": "mVzD8xIKXRJ-",
   "metadata": {
    "colab": {
     "base_uri": "https://localhost:8080/"
    },
    "id": "mVzD8xIKXRJ-",
    "outputId": "38ff6bd0-9958-4b91-f25a-def00c850387"
   },
   "outputs": [
    {
     "data": {
      "text/plain": [
       "35511    fastrack oval unisex sunglasses p192gr1|62.1|g...\n",
       "13051    simxen egg boiler electric automatic 7 egg poa...\n",
       "47682    carg7 car lcd bluetooth car charger fm kit mp3...\n",
       "50091    blue diamond mini mp3 player free data cable e...\n",
       "35144    campus sutra men 's polyester t shirt wear cam...\n",
       "Name: preprocessed_text, dtype: object"
      ]
     },
     "execution_count": 17,
     "metadata": {},
     "output_type": "execute_result"
    }
   ],
   "source": [
    "xtest[:5]"
   ]
  },
  {
   "cell_type": "code",
   "execution_count": 18,
   "id": "TRrGwfTHXWBH",
   "metadata": {
    "colab": {
     "base_uri": "https://localhost:8080/"
    },
    "id": "TRrGwfTHXWBH",
    "outputId": "dcbca938-5c2b-4713-8b06-dc80140c68d9"
   },
   "outputs": [
    {
     "data": {
      "text/plain": [
       "35511    3\n",
       "13051    0\n",
       "47682    2\n",
       "50091    2\n",
       "35144    3\n",
       "Name: label_numeric, dtype: int64"
      ]
     },
     "execution_count": 18,
     "metadata": {},
     "output_type": "execute_result"
    }
   ],
   "source": [
    "ytest[:5]"
   ]
  },
  {
   "cell_type": "code",
   "execution_count": 19,
   "id": "-CrC0qphXV-_",
   "metadata": {
    "colab": {
     "base_uri": "https://localhost:8080/"
    },
    "id": "-CrC0qphXV-_",
    "outputId": "fc3801b5-b5d6-49c4-83d8-567c8e4de712"
   },
   "outputs": [
    {
     "data": {
      "text/plain": [
       "array([3, 0, 2, 2, 3], dtype=int64)"
      ]
     },
     "execution_count": 19,
     "metadata": {},
     "output_type": "execute_result"
    }
   ],
   "source": [
    "ypred[:5]"
   ]
  },
  {
   "cell_type": "code",
   "execution_count": 20,
   "id": "cd16a3bd",
   "metadata": {
    "colab": {
     "base_uri": "https://localhost:8080/",
     "height": 616
    },
    "id": "cd16a3bd",
    "outputId": "7ea32030-4607-4f01-be2d-b6952f28bec2"
   },
   "outputs": [
    {
     "data": {
      "image/png": "[encoded data removed]",
      "text/plain": [
       "<Figure size 640x480 with 2 Axes>"
      ]
     },
     "metadata": {},
     "output_type": "display_data"
    }
   ],
   "source": [
    "# Confusion Matrix\n",
    "\n",
    "confusion_m =confusion_matrix(ytest, ypred)\n",
    "\n",
    "sns.heatmap(confusion_m, annot = True, fmt = '.1f',\n",
    "            xticklabels = ['Household', 'Books', 'Electronics', 'Clothing & Accessories'],\n",
    "            yticklabels = ['Household', 'Books', 'Electronics', 'Clothing & Accessories'])\n",
    "plt.xlabel('Predicted Output')\n",
    "plt.ylabel('Actual Output')\n",
    "plt.title(\"Confusion matrix for Multi_NB\")\n",
    "plt.show();"
   ]
  },
  {
   "cell_type": "code",
   "execution_count": 21,
   "id": "862d5a50",
   "metadata": {
    "id": "862d5a50"
   },
   "outputs": [],
   "source": [
    "clf_rf = Pipeline([\n",
    "    ((\"tfidf\", TfidfVectorizer())),\n",
    "    ('Random_forest', RandomForestClassifier())\n",
    "])"
   ]
  },
  {
   "cell_type": "code",
   "execution_count": 22,
   "id": "EdCPPwwtYduA",
   "metadata": {
    "colab": {
     "base_uri": "https://localhost:8080/"
    },
    "id": "EdCPPwwtYduA",
    "outputId": "132f0d78-b9fb-416c-9cca-2b8446c0c32a"
   },
   "outputs": [
    {
     "name": "stdout",
     "output_type": "stream",
     "text": [
      "Train ACC: 1.0\n",
      "Test ACC: 0.9725334655428854\n",
      "\n",
      "              precision    recall  f1-score   support\n",
      "\n",
      "           0       0.96      0.98      0.97      3863\n",
      "           1       0.98      0.98      0.98      2364\n",
      "           2       0.98      0.94      0.96      2124\n",
      "           3       0.99      0.98      0.98      1734\n",
      "\n",
      "    accuracy                           0.97     10085\n",
      "   macro avg       0.98      0.97      0.97     10085\n",
      "weighted avg       0.97      0.97      0.97     10085\n",
      "\n"
     ]
    }
   ],
   "source": [
    "## Random Forest Classifier\n",
    "\n",
    "clf_rf.fit(xtrain, ytrain)\n",
    "\n",
    "y_pred = clf_rf.predict(xtest)\n",
    "\n",
    "rf_train = clf_rf.score(xtrain,ytrain)\n",
    "rf_test = clf_rf.score(xtest, ytest)\n",
    "\n",
    "print(f'Train ACC: {rf_train}\\nTest ACC: {rf_test}\\n\\n{classification_report(ytest, y_pred)}')"
   ]
  },
  {
   "cell_type": "code",
   "execution_count": 23,
   "id": "oLM_QLnAYfO9",
   "metadata": {
    "colab": {
     "base_uri": "https://localhost:8080/",
     "height": 616
    },
    "id": "oLM_QLnAYfO9",
    "outputId": "9433e09e-508a-4193-e505-fc3ea912d257"
   },
   "outputs": [
    {
     "data": {
      "image/png": "[encoded data removed]",
      "text/plain": [
       "<Figure size 640x480 with 2 Axes>"
      ]
     },
     "metadata": {},
     "output_type": "display_data"
    }
   ],
   "source": [
    "confusion_m =confusion_matrix(ytest, y_pred)\n",
    "\n",
    "sns.heatmap(confusion_m, annot = True, fmt = '.1f',\n",
    "             xticklabels = ['Household', 'Books', 'Electronics', 'Clothing & Accessories'],\n",
    "              yticklabels = ['Household', 'Books', 'Electronics', 'Clothing & Accessories'])\n",
    "plt.xlabel('Predicted Output')\n",
    "plt.ylabel('Actual Output')\n",
    "plt.title(\"Confusion matrix for Random_forest\")\n",
    "plt.show();"
   ]
  }
 ],
 "metadata": {
  "accelerator": "GPU",
  "colab": {
   "gpuType": "T4",
   "provenance": []
  },
  "kernelspec": {
   "display_name": "Python 3 (ipykernel)",
   "language": "python",
   "name": "python3"
  },
  "language_info": {
   "codemirror_mode": {
    "name": "ipython",
    "version": 3
   },
   "file_extension": ".py",
   "mimetype": "text/x-python",
   "name": "python",
   "nbconvert_exporter": "python",
   "pygments_lexer": "ipython3",
   "version": "3.9.13"
  }
 },
 "nbformat": 4,
 "nbformat_minor": 5
}
