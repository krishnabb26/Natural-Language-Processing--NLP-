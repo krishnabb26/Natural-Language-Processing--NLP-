{
 "cells": [
  {
   "cell_type": "code",
   "execution_count": 1,
   "id": "365811ea",
   "metadata": {},
   "outputs": [],
   "source": [
    "import re"
   ]
  },
  {
   "cell_type": "markdown",
   "id": "3d010a89",
   "metadata": {},
   "source": [
    "Regular expression tester -- >  [REGEX101](https://regex101.com/)"
   ]
  },
  {
   "cell_type": "markdown",
   "id": "eb94802e",
   "metadata": {},
   "source": [
    "### Extracting phone number from below chats "
   ]
  },
  {
   "cell_type": "code",
   "execution_count": 2,
   "id": "b49bd8dc",
   "metadata": {},
   "outputs": [],
   "source": [
    "chat1 = 'you ask lot of questions 😠  1235678912, abc@xyz.com, (+91)-1234566789'\n",
    "chat2 = 'here it is: (123)-567-8912, abc_125_ABC@xyz.com'\n",
    "chat3 = 'yes, phone: 1235678912 email: Kh_123dye@xyz.io'"
   ]
  },
  {
   "cell_type": "code",
   "execution_count": 3,
   "id": "5894749a",
   "metadata": {},
   "outputs": [
    {
     "data": {
      "text/plain": [
       "['1235678912']"
      ]
     },
     "execution_count": 3,
     "metadata": {},
     "output_type": "execute_result"
    }
   ],
   "source": [
    "pattern = '\\d{10}' \n",
    "\n",
    "pattern = re.findall(pattern, chat3)\n",
    "pattern"
   ]
  },
  {
   "cell_type": "code",
   "execution_count": 4,
   "id": "39e1e267",
   "metadata": {},
   "outputs": [
    {
     "data": {
      "text/plain": [
       "['(123)-567-8912']"
      ]
     },
     "execution_count": 4,
     "metadata": {},
     "output_type": "execute_result"
    }
   ],
   "source": [
    "pattern = '\\(\\d{3}\\)-\\d{3}-\\d{4}'\n",
    "\n",
    "pattern = re.findall(pattern, chat2)\n",
    "pattern"
   ]
  },
  {
   "cell_type": "code",
   "execution_count": 5,
   "id": "2c9e9f17",
   "metadata": {},
   "outputs": [],
   "source": [
    "# Combine both pattern to take action for possible ph number formates\n",
    "\n",
    "f_pattern = '\\d{10}|\\(\\d{3}\\)-\\d{3}-\\d{4}|\\(\\S\\d{2}\\)-\\d{10}'\n",
    "\n",
    "#create def function \n",
    "\n",
    "def ph_number(pattern, chat):\n",
    "    return re.findall(pattern, chat)"
   ]
  },
  {
   "cell_type": "code",
   "execution_count": 6,
   "id": "c081a2d4",
   "metadata": {},
   "outputs": [
    {
     "name": "stdout",
     "output_type": "stream",
     "text": [
      "Phone number for Chat 1: ['1235678912', '(+91)-1234566789']\n",
      "Phone number for Chat 2: ['(123)-567-8912']\n",
      "Phone number for Chat 3: ['1235678912']\n"
     ]
    }
   ],
   "source": [
    "print(f'Phone number for Chat 1: {ph_number(f_pattern, chat1)}\\nPhone number for Chat 2: {ph_number(f_pattern, chat2)}\\nPhone number for Chat 3: {ph_number(f_pattern, chat3)}')"
   ]
  },
  {
   "cell_type": "markdown",
   "id": "6fba2df6",
   "metadata": {},
   "source": [
    "### Extracting Email_Id"
   ]
  },
  {
   "cell_type": "code",
   "execution_count": 7,
   "id": "f919eb52",
   "metadata": {},
   "outputs": [],
   "source": [
    "mailcheck = '[a-zA-Z0-9_]*@[a-zA-z]*\\.[a-zA-Z]*'\n",
    "\n",
    "def mailid(pattern, chat):\n",
    "    return re.findall(pattern, chat)"
   ]
  },
  {
   "cell_type": "code",
   "execution_count": 8,
   "id": "b60cff5c",
   "metadata": {},
   "outputs": [
    {
     "name": "stdout",
     "output_type": "stream",
     "text": [
      "mail_id for Chat 1: ['abc@xyz.com']\n",
      "mail_id for Chat 2: ['abc_125_ABC@xyz.com']\n",
      "mail_id for Chat 3: ['Kh_123dye@xyz.io']\n"
     ]
    }
   ],
   "source": [
    "print(f'mail_id for Chat 1: {mailid(mailcheck, chat1)}\\nmail_id for Chat 2: {mailid(mailcheck, chat2)}\\nmail_id for Chat 3: {mailid(mailcheck, chat3)}')"
   ]
  },
  {
   "cell_type": "markdown",
   "id": "e8fecb44",
   "metadata": {},
   "source": [
    "### Order Number"
   ]
  },
  {
   "cell_type": "code",
   "execution_count": 9,
   "id": "b009dfde",
   "metadata": {},
   "outputs": [],
   "source": [
    "chat1='Hello, I am having an issue with my order # 4128899182'\n",
    "chat2='I have a problem with my order number 153327889912'\n",
    "chat3='My order 71288 is having an issue, I was charged 300$ when online it says 280$'"
   ]
  },
  {
   "cell_type": "code",
   "execution_count": 10,
   "id": "7a46c875",
   "metadata": {},
   "outputs": [],
   "source": [
    "o_number = 'order[^\\d]*(\\d*)'\n",
    "\n",
    "def check_ordernumber(patten, chat):\n",
    "    check = re.findall(patten, chat)\n",
    "    return check"
   ]
  },
  {
   "cell_type": "code",
   "execution_count": 11,
   "id": "710ef94c",
   "metadata": {},
   "outputs": [
    {
     "name": "stdout",
     "output_type": "stream",
     "text": [
      "Order Number for Chat 1: ['4128899182']\n",
      "Order Number for Chat 2: ['153327889912']\n",
      "Order Number for Chat 3: ['71288']\n"
     ]
    }
   ],
   "source": [
    "print(f'Order Number for Chat 1: {check_ordernumber(o_number, chat1)}\\nOrder Number for Chat 2: {check_ordernumber(o_number, chat2)}\\nOrder Number for Chat 3: {check_ordernumber(o_number, chat3)}')"
   ]
  },
  {
   "cell_type": "markdown",
   "id": "8956a04b",
   "metadata": {},
   "source": [
    "### Extracting Basic Personal Info"
   ]
  },
  {
   "cell_type": "code",
   "execution_count": 12,
   "id": "da98be7d",
   "metadata": {},
   "outputs": [],
   "source": [
    "text = '''Born\tElon Reeve Musk\n",
    "June 28, 1971 (age 50)\n",
    "Pretoria, Transvaal, South Africa\n",
    "Citizenship\t\n",
    "South Africa (1971–present)\n",
    "Canada (1971–present)\n",
    "United States (2002–present)\n",
    "Education\tUniversity of Pennsylvania (BS, BA)\n",
    "Title\t\n",
    "Founder, CEO and Chief Engineer of SpaceX\n",
    "CEO and product architect of Tesla, Inc.\n",
    "Founder of The Boring Company and X.com (now part of PayPal)\n",
    "Co-founder of Neuralink, OpenAI, and Zip2\n",
    "Spouse(s)\t\n",
    "Justine Wilson'''"
   ]
  },
  {
   "cell_type": "code",
   "execution_count": 13,
   "id": "baa2980b",
   "metadata": {},
   "outputs": [
    {
     "data": {
      "text/plain": [
       "['50']"
      ]
     },
     "execution_count": 13,
     "metadata": {},
     "output_type": "execute_result"
    }
   ],
   "source": [
    "pattern = 'age (\\d*)'\n",
    "\n",
    "age = re.findall(pattern, text)\n",
    "age"
   ]
  },
  {
   "cell_type": "code",
   "execution_count": 14,
   "id": "3480ff6a",
   "metadata": {},
   "outputs": [
    {
     "data": {
      "text/plain": [
       "'Elon Reeve Musk'"
      ]
     },
     "execution_count": 14,
     "metadata": {},
     "output_type": "execute_result"
    }
   ],
   "source": [
    "pattern = 'Born(.*)'\n",
    "\n",
    "name = re.findall(pattern, text)\n",
    "name[0].strip()"
   ]
  },
  {
   "cell_type": "code",
   "execution_count": 15,
   "id": "9e953b5f",
   "metadata": {},
   "outputs": [
    {
     "data": {
      "text/plain": [
       "'June 28, 1971'"
      ]
     },
     "execution_count": 15,
     "metadata": {},
     "output_type": "execute_result"
    }
   ],
   "source": [
    "pattern = 'Born.*\\n(.*)\\(age'\n",
    "\n",
    "birth_date = re.findall(pattern, text)\n",
    "birth_date[0].strip()"
   ]
  },
  {
   "cell_type": "code",
   "execution_count": 16,
   "id": "23014d0e",
   "metadata": {},
   "outputs": [
    {
     "data": {
      "text/plain": [
       "'Pretoria, Transvaal, South Africa'"
      ]
     },
     "execution_count": 16,
     "metadata": {},
     "output_type": "execute_result"
    }
   ],
   "source": [
    "pattern = '\\(age.*\\n(.*)'\n",
    "\n",
    "birth_place = re.findall(pattern, text)\n",
    "birth_place[0].strip()"
   ]
  },
  {
   "cell_type": "code",
   "execution_count": 17,
   "id": "e0b2380b",
   "metadata": {},
   "outputs": [
    {
     "data": {
      "text/plain": [
       "'University of Pennsylvania (BS, BA)'"
      ]
     },
     "execution_count": 17,
     "metadata": {},
     "output_type": "execute_result"
    }
   ],
   "source": [
    "pattern = 'Education(.*)'\n",
    "\n",
    "education = re.findall(pattern,  text)\n",
    "education[0].strip()"
   ]
  },
  {
   "cell_type": "code",
   "execution_count": 18,
   "id": "2189f4f8",
   "metadata": {},
   "outputs": [],
   "source": [
    "def get_pattern_info(pattern, text):\n",
    "    matches = re.findall(pattern, text)\n",
    "    if matches:\n",
    "        return matches[0]"
   ]
  },
  {
   "cell_type": "code",
   "execution_count": 19,
   "id": "d800f6ad",
   "metadata": {},
   "outputs": [],
   "source": [
    "def get_persons_info(text):\n",
    "    age = get_pattern_info('age (\\d*)', text)\n",
    "    name = get_pattern_info('Born(.*)', text)\n",
    "    dob = get_pattern_info('Born.*\\n(.*)\\(age', text)\n",
    "    birth_place = get_pattern_info('\\(age.*\\n(.*)', text)\n",
    "    education = get_pattern_info('Education(.*)', text)\n",
    "    \n",
    "    return {\n",
    "        'Name': name.strip(),\n",
    "        'Age': int(age),\n",
    "        'Date of Birth': dob.strip(),\n",
    "        'Birth Place': birth_place.strip(),\n",
    "        'Education': education.strip()\n",
    "    }"
   ]
  },
  {
   "cell_type": "code",
   "execution_count": 20,
   "id": "f70225c7",
   "metadata": {},
   "outputs": [
    {
     "data": {
      "text/plain": [
       "{'Name': 'Elon Reeve Musk',\n",
       " 'Age': 50,\n",
       " 'Date of Birth': 'June 28, 1971',\n",
       " 'Birth Place': 'Pretoria, Transvaal, South Africa',\n",
       " 'Education': 'University of Pennsylvania (BS, BA)'}"
      ]
     },
     "execution_count": 20,
     "metadata": {},
     "output_type": "execute_result"
    }
   ],
   "source": [
    "get_persons_info(text)"
   ]
  },
  {
   "cell_type": "code",
   "execution_count": 21,
   "id": "dfed8448",
   "metadata": {},
   "outputs": [],
   "source": [
    "text2 = '''Born\tMukesh Dhirubhai Ambani\n",
    "19 April 1957 (age 64)\n",
    "Aden, Colony of Aden\n",
    "(present-day Yemen)[1][2]\n",
    "Nationality\tIndian\n",
    "Education\tSt. Xavier's College, MumbaiInstitute of Chemical Technology (B.E.), Stanford University (drop-out)\n",
    "Occupation\tChairman and MD, Reliance Industries\n",
    "Spouse(s)\tNita Ambani ​(m. 1985)​[3]\n",
    "Children\t3\n",
    "Parent(s)\t\n",
    "Dhirubhai Ambani (father)\n",
    "Kokilaben Ambani (mother)\n",
    "Relatives\tAnil Ambani (brother)\n",
    "Tina Ambani (sister-in-law)\n",
    "'''"
   ]
  },
  {
   "cell_type": "code",
   "execution_count": 22,
   "id": "ebf2afda",
   "metadata": {},
   "outputs": [
    {
     "data": {
      "text/plain": [
       "{'Name': 'Mukesh Dhirubhai Ambani',\n",
       " 'Age': 64,\n",
       " 'Date of Birth': '19 April 1957',\n",
       " 'Birth Place': 'Aden, Colony of Aden',\n",
       " 'Education': \"St. Xavier's College, MumbaiInstitute of Chemical Technology (B.E.), Stanford University (drop-out)\"}"
      ]
     },
     "execution_count": 22,
     "metadata": {},
     "output_type": "execute_result"
    }
   ],
   "source": [
    "get_persons_info(text2)"
   ]
  },
  {
   "cell_type": "markdown",
   "id": "122646c6",
   "metadata": {},
   "source": [
    "### Extract all twitter handles from following text."
   ]
  },
  {
   "cell_type": "code",
   "execution_count": 23,
   "id": "a8b1dcfc",
   "metadata": {},
   "outputs": [],
   "source": [
    "tw = '''\n",
    "Elon musk on twitter here: https://twitter.com/elonmusk, more information \n",
    "on Tesla's products can be found at https://www.tesla.com/. Also here are leading influencers \n",
    "for tesla related news,\n",
    "https://twitter.com/teslarati\n",
    "https://twitter.com/dummy_tesla\n",
    "https://twitter.com/dummy_2_tesla'''\n"
   ]
  },
  {
   "cell_type": "code",
   "execution_count": 24,
   "id": "41e362d2",
   "metadata": {},
   "outputs": [
    {
     "data": {
      "text/plain": [
       "['elonmusk', 'teslarati', 'dummy_tesla', 'dummy_2_tesla']"
      ]
     },
     "execution_count": 24,
     "metadata": {},
     "output_type": "execute_result"
    }
   ],
   "source": [
    "pattern = 'https://twitter.com/([a-zA-z0-9]+)'\n",
    "\n",
    "match = re.findall(pattern, tw)\n",
    "match"
   ]
  },
  {
   "cell_type": "markdown",
   "id": "43838219",
   "metadata": {},
   "source": [
    "### Extract Concentration Risk Types. \n",
    "\n",
    "- Credit Risk\n",
    "\n",
    "- Supply Rish"
   ]
  },
  {
   "cell_type": "code",
   "execution_count": 25,
   "id": "a6f58b4c",
   "metadata": {},
   "outputs": [],
   "source": [
    "risk = '''\n",
    "Concentration of Risk: Credit Risk\n",
    "Financial instruments that potentially subject us to a concentration of credit risk consist of cash, cash equivalents, marketable securities,\n",
    "restricted cash, accounts receivable, convertible note hedges, and interest rate swaps. Our cash balances are primarily invested in money market funds\n",
    "or on deposit at high credit quality financial institutions in the U.S. These deposits are typically in excess of insured limits. As of September 30, 2021\n",
    "and December 31, 2020, no entity represented 10% or more of our total accounts receivable balance. The risk of concentration for our convertible note\n",
    "hedges and interest rate swaps is mitigated by transacting with several highly-rated multinational banks.\n",
    "Concentration of Risk: Supply Risk\n",
    "We are dependent on our suppliers, including single source suppliers, and the inability of these suppliers to deliver necessary components of our\n",
    "products in a timely manner at prices, quality levels and volumes acceptable to us, or our inability to efficiently manage these components from these\n",
    "suppliers, could have a material adverse effect on our business, prospects, financial condition and operating results.\n",
    "'''"
   ]
  },
  {
   "cell_type": "code",
   "execution_count": 26,
   "id": "dab7734f",
   "metadata": {},
   "outputs": [
    {
     "data": {
      "text/plain": [
       "[' Credit Risk', ' Supply Risk']"
      ]
     },
     "execution_count": 26,
     "metadata": {},
     "output_type": "execute_result"
    }
   ],
   "source": [
    "pattern = 'Concentration of Risk.(.*[a-zA-z*])'\n",
    "\n",
    "match = re.findall(pattern, risk)\n",
    "match"
   ]
  },
  {
   "cell_type": "markdown",
   "id": "4b748131",
   "metadata": {},
   "source": [
    "### Companies in europe reports their financial numbers of semi annual basis and you can have a document like this. To exatract quarterly and semin annual period you can use a regex as shown below"
   ]
  },
  {
   "cell_type": "code",
   "execution_count": 27,
   "id": "f195f0a1",
   "metadata": {},
   "outputs": [],
   "source": [
    "text = '''\n",
    "Tesla's gross cost of operating lease vehicles in FY2021 Q1 was $4.85 billion.\n",
    "BMW's gross cost of operating vehicles in FY2021 S1 was $8 billion.'''"
   ]
  },
  {
   "cell_type": "code",
   "execution_count": 28,
   "id": "f7244b6a",
   "metadata": {},
   "outputs": [
    {
     "data": {
      "text/plain": [
       "['2021 Q1', '2021 S1']"
      ]
     },
     "execution_count": 28,
     "metadata": {},
     "output_type": "execute_result"
    }
   ],
   "source": [
    "pattern = 'FY(\\d{4} (?:Q[1-4]|S[1-2]))'\n",
    "\n",
    "match = re.findall(pattern, text)\n",
    "match"
   ]
  }
 ],
 "metadata": {
  "kernelspec": {
   "display_name": "Python 3 (ipykernel)",
   "language": "python",
   "name": "python3"
  },
  "language_info": {
   "codemirror_mode": {
    "name": "ipython",
    "version": 3
   },
   "file_extension": ".py",
   "mimetype": "text/x-python",
   "name": "python",
   "nbconvert_exporter": "python",
   "pygments_lexer": "ipython3",
   "version": "3.9.13"
  }
 },
 "nbformat": 4,
 "nbformat_minor": 5
}
